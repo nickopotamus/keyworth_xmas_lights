{
 "cells": [
  {
   "cell_type": "markdown",
   "metadata": {},
   "source": [
    "# Solving the travelling salesman problem for Keyworth Christmas lights\n",
    "* Solving the [TSP](https://en.wikipedia.org/wiki/Travelling_salesman_problem) for quickest way to walk around the village [using Google OR-Tools](https://developers.google.com/optimization/routing/tsp) and see all the lights\n",
    "* Combining the [Keyworth Community Projects page](https://www.facebook.com/189497114572953/posts/1583160051873312/?extid=0&d=n) Keyworth Christmas Trail and the [Friends of Willow Brook](http://www.willowbrook-gst.org/friends-of-willow-brook/) Winter Wonderland Windows\n",
    "* Nerdiness by [@Nickopotamus](https://nickopotamus.co.uk)"
   ]
  },
  {
   "cell_type": "code",
   "execution_count": 4,
   "metadata": {},
   "outputs": [],
   "source": [
    "from __future__ import division\n",
    "from __future__ import print_function\n",
    "from ortools.constraint_solver import pywrapcp\n",
    "from ortools.constraint_solver import routing_enums_pb2\n",
    "import requests\n",
    "import json\n",
    "import urllib.request\n",
    "import IPython"
   ]
  },
  {
   "cell_type": "markdown",
   "metadata": {},
   "source": [
    "## Display all the lights\n",
    "Firstly we'll see where everything is"
   ]
  },
  {
   "cell_type": "code",
   "execution_count": 6,
   "metadata": {},
   "outputs": [
    {
     "data": {
      "text/html": [
       "<iframe src=\"https://www.google.com/maps/d/u/0/embed?mid=19TiYH4ekRraLXnt2KKTe9lhoMZw-VFbh\" width=\"840\" height=\"480\"></iframe>"
      ],
      "text/plain": [
       "<IPython.core.display.HTML object>"
      ]
     },
     "execution_count": 6,
     "metadata": {},
     "output_type": "execute_result"
    }
   ],
   "source": [
    "iframe = '<iframe src=\"https://www.google.com/maps/d/u/0/embed?mid=19TiYH4ekRraLXnt2KKTe9lhoMZw-VFbh\" width=\"840\" height=\"480\"></iframe>'\n",
    "IPython.display.HTML(iframe)"
   ]
  },
  {
   "cell_type": "markdown",
   "metadata": {},
   "source": [
    "## Figure out the best route\n",
    "Next step is to figure out the best route. We shall use the [Google Distance Matrix API](https://developers.google.com/optimization/routing/vrp#distance_matrix_api) to build a distance matrix between clusters of displays, then solve for the fastest route between them all."
   ]
  },
  {
   "cell_type": "markdown",
   "metadata": {},
   "source": [
    "#### Create data model that will store distance matrix\n",
    "* Had to combine a few nearby locations to make the API work, as the matrix can be a [maximum of 25x25](https://developers.google.com/maps/documentation/distance-matrix/usage-and-billing)\n",
    "* Selected nodes highlighted in purple on the map above"
   ]
  },
  {
   "cell_type": "code",
   "execution_count": 7,
   "metadata": {},
   "outputs": [],
   "source": [
    "def create_data_model():\n",
    "    \"\"\"Stores the data for the problem.\"\"\"\n",
    "    data = {}\n",
    "    data['API_key'] = 'API-KEY-GOES-HERE'\n",
    "    data['addresses'] = ['6+Willowbrook+Keyworth+NG12+UK',\n",
    "                         '1+Covert+Close+Keyworth+NG12+UK',\n",
    "                         '1+Wolds+Rise+Keyworth+NG12+UK',\n",
    "                         '11+Bunny+Lane+Keyworth+NG12+UK',\n",
    "                         '13+West+Close+Keyworth+NG12+UK',\n",
    "                         '16+Lilac+Close+Keyworth+NG12+UK',\n",
    "                         '2+Rancliffe+Avenue+Keyworth+NG12+UK',\n",
    "                         '2+Roseland+Close+Keyworth+NG12+UK',\n",
    "                         '204+Mount+Pleasant+Keyworth+NG12+UK',\n",
    "                         '24+Ashley+Road+Keyworth+NG12+UK',\n",
    "                         '26+Rose+Grove+Keyworth+NG12+UK',\n",
    "                         '27+Walton+Drive+Keyworth+NG12+UK',\n",
    "                         '29+Hayes+Road+Keyworth+NG12+UK',\n",
    "                         '45+Normanton+Lane+Keyworth+NG12+UK',\n",
    "                         '46+Beech+Avenue+Keyworth+NG12+UK',\n",
    "                         '5+Wrights+Orchard+Keyworth+NG12+UK',\n",
    "                         '51+Park+Avenue+West+Keyworth+NG12+UK',\n",
    "                         '52+Spinney+Road+Keyworth+NG12+UK',\n",
    "                         '54+Ashley+Road+Keyworth+NG12+UK',\n",
    "                         '6+Lyncombe+Gardens+Keyworth+NG12+UK',\n",
    "                         '68+Selby+Lane+Keyworth+NG12+UK',\n",
    "                         '7A+Dale+Road+Keyworth+NG12+UK',\n",
    "                         '84A+Manor+Road+Keyworth+NG12+UK',\n",
    "                         '9+Beaumont+Close+Keyworth+NG12+UK',\n",
    "                         'Keyworth+Tavern+Fairway+Keyworth+NG12+UK'\n",
    "                        ]\n",
    "    data['num_vehicles'] = 1\n",
    "    data['depot'] = 0 # Start at Willowbrook\n",
    "    return data"
   ]
  },
  {
   "cell_type": "markdown",
   "metadata": {},
   "source": [
    "#### Compute distance matrix"
   ]
  },
  {
   "cell_type": "code",
   "execution_count": 8,
   "metadata": {},
   "outputs": [],
   "source": [
    "def create_distance_matrix(data):\n",
    "  addresses = data[\"addresses\"]\n",
    "  API_key = data[\"API_key\"]\n",
    "  max_elements = 100\n",
    "  # Distance Matrix API only accepts 100 elements per request, so get rows in multiple requests\n",
    "  \n",
    "  num_addresses = len(addresses) \n",
    "  max_rows = max_elements // num_addresses  # Maximum number of rows that can be computed per request\n",
    "  q, r = divmod(num_addresses, max_rows)    # num_addresses = q * max_rows + r\n",
    "  dest_addresses = addresses\n",
    "  distance_matrix = []\n",
    "  \n",
    "  for i in range(q):                        # Send q requests, returning max_rows rows per request.\n",
    "    origin_addresses = addresses[i * max_rows: (i + 1) * max_rows]\n",
    "    response = send_request(origin_addresses, dest_addresses, API_key)\n",
    "    distance_matrix += build_distance_matrix(response)\n",
    "\n",
    "  if r > 0:                                  # Get the remaining remaining r rows, if necessary.\n",
    "    origin_addresses = addresses[q * max_rows: q * max_rows + r]\n",
    "    response = send_request(origin_addresses, dest_addresses, API_key)\n",
    "    distance_matrix += build_distance_matrix(response)\n",
    "\n",
    "  return distance_matrix"
   ]
  },
  {
   "cell_type": "markdown",
   "metadata": {},
   "source": [
    "#### Build and send API requests"
   ]
  },
  {
   "cell_type": "code",
   "execution_count": 9,
   "metadata": {},
   "outputs": [],
   "source": [
    "def send_request(origin_addresses, dest_addresses, API_key):\n",
    "  \"\"\" Build and send request for the given origin and destination addresses.\"\"\"\n",
    "  def build_address_str(addresses):     # Build a pipe-separated string of addresses\n",
    "    address_str = ''\n",
    "    for i in range(len(addresses) - 1):\n",
    "      address_str += addresses[i] + '|'\n",
    "    address_str += addresses[-1]\n",
    "    return address_str\n",
    "\n",
    "  request = 'https://maps.googleapis.com/maps/api/distancematrix/json?units=imperial'\n",
    "  origin_address_str = build_address_str(origin_addresses)\n",
    "  dest_address_str = build_address_str(dest_addresses)\n",
    "  request = request + '&origins=' + origin_address_str + '&destinations=' + \\\n",
    "                       dest_address_str + '&key=' + API_key\n",
    "  jsonResult = urllib.request.urlopen(request).read()\n",
    "  response = json.loads(jsonResult)\n",
    "  return response"
   ]
  },
  {
   "cell_type": "markdown",
   "metadata": {},
   "source": [
    "#### Build the distance matrix"
   ]
  },
  {
   "cell_type": "code",
   "execution_count": 10,
   "metadata": {},
   "outputs": [],
   "source": [
    "def build_distance_matrix(response):\n",
    "  distance_matrix = []\n",
    "  for row in response['rows']:\n",
    "    row_list = [row['elements'][j]['distance']['value'] for j in range(len(row['elements']))]\n",
    "    distance_matrix.append(row_list)\n",
    "  return distance_matrix"
   ]
  },
  {
   "cell_type": "markdown",
   "metadata": {},
   "source": [
    "#### Add distance matrix to model"
   ]
  },
  {
   "cell_type": "code",
   "execution_count": 11,
   "metadata": {},
   "outputs": [
    {
     "name": "stdout",
     "output_type": "stream",
     "text": [
      "[[0, 1281, 1453, 1497, 1699, 288, 2438, 1817, 603, 1333, 1668, 1661, 2110, 1424, 504, 1809, 2028, 2491, 1235, 1426, 801, 1453, 1928, 2435, 745], [1281, 0, 415, 1488, 1690, 1398, 1379, 1808, 1257, 842, 790, 622, 1449, 547, 1143, 2007, 2019, 1432, 1069, 388, 1152, 1287, 1428, 1375, 759], [1197, 415, 0, 1155, 1357, 1065, 1046, 1475, 724, 509, 805, 289, 1116, 719, 810, 1674, 1686, 1099, 736, 159, 819, 954, 1095, 1042, 426], [1497, 1726, 1194, 0, 202, 1682, 957, 320, 1740, 660, 1323, 767, 613, 1162, 1119, 667, 531, 803, 562, 1271, 696, 562, 431, 1185, 909], [1699, 1928, 1396, 202, 0, 1884, 849, 399, 1942, 862, 1525, 969, 505, 1364, 1321, 869, 610, 694, 764, 1473, 898, 764, 322, 1128, 1111], [288, 1569, 1065, 1682, 1884, 0, 1974, 2002, 497, 1227, 1956, 1058, 2044, 1712, 398, 1995, 2214, 2027, 1129, 1143, 987, 1347, 2114, 1971, 639], [2456, 1578, 1046, 957, 849, 1920, 0, 1155, 1694, 837, 1175, 1193, 642, 1014, 1665, 1665, 950, 626, 988, 1123, 1694, 613, 622, 853, 1281], [1817, 2046, 1514, 320, 399, 2002, 1155, 0, 2060, 980, 1643, 1087, 811, 1482, 1439, 693, 510, 1000, 882, 1591, 1016, 882, 628, 1505, 1229], [603, 1257, 724, 1537, 1739, 497, 1694, 1857, 0, 1216, 1643, 831, 1763, 1399, 589, 2056, 2068, 1747, 1118, 916, 1201, 1336, 1743, 1690, 808], [1333, 1041, 509, 660, 862, 1227, 837, 980, 1419, 0, 638, 446, 906, 477, 972, 1136, 1191, 889, 241, 586, 981, 459, 886, 833, 588], [1685, 808, 980, 1323, 1525, 1973, 1175, 1643, 1660, 638, 0, 903, 1244, 244, 1424, 1799, 1854, 1228, 1122, 953, 1433, 904, 1224, 1171, 1040], [1661, 622, 289, 767, 969, 1058, 1144, 1087, 831, 446, 903, 0, 1214, 742, 802, 1243, 1298, 1197, 348, 367, 812, 566, 1198, 1141, 418], [2110, 1648, 1116, 613, 505, 1990, 642, 811, 1763, 906, 1244, 1262, 0, 1084, 1734, 1280, 455, 171, 1057, 1193, 1309, 682, 278, 922, 1350], [1441, 564, 736, 1162, 1364, 1729, 1014, 1482, 1417, 477, 244, 742, 1084, 0, 1263, 1638, 1693, 1067, 961, 709, 1272, 743, 1063, 1011, 879], [504, 1143, 810, 1191, 1393, 398, 1719, 1511, 589, 972, 1424, 802, 1788, 1263, 0, 1504, 1722, 1772, 874, 887, 649, 1092, 1623, 1715, 489], [1809, 2007, 1674, 667, 869, 1995, 1665, 693, 2184, 1136, 1799, 1243, 1280, 1638, 1432, 0, 1198, 1470, 1038, 1751, 1008, 1038, 1098, 1661, 1354], [2028, 2257, 1725, 531, 610, 2214, 950, 510, 2271, 1191, 1854, 1298, 606, 1693, 1651, 1198, 0, 492, 1093, 1803, 1227, 1093, 424, 1230, 1440], [2508, 1631, 1099, 803, 694, 1973, 626, 1000, 1747, 889, 1228, 1246, 171, 1067, 1718, 1470, 492, 0, 1041, 1176, 1498, 666, 467, 905, 1334], [1235, 1069, 736, 562, 764, 1129, 988, 882, 1321, 241, 879, 348, 1057, 718, 874, 1038, 1093, 1041, 0, 813, 883, 361, 993, 984, 490], [1426, 388, 159, 1233, 1434, 1143, 1123, 1552, 916, 586, 935, 367, 1193, 692, 887, 1751, 1764, 1176, 813, 0, 896, 1032, 1173, 1120, 503], [801, 1152, 819, 696, 898, 987, 1694, 1016, 1301, 981, 1433, 812, 1309, 1272, 577, 1008, 1227, 1498, 883, 896, 0, 1067, 1127, 1690, 499], [1453, 1307, 775, 562, 764, 1347, 613, 882, 1539, 459, 904, 566, 682, 743, 1092, 1038, 1093, 666, 361, 853, 1067, 0, 662, 609, 708], [1928, 1628, 1095, 431, 322, 2114, 622, 628, 1743, 1091, 1224, 1198, 278, 1063, 1551, 1098, 424, 467, 993, 1173, 1127, 662, 0, 902, 1340], [2452, 1575, 1042, 1185, 1128, 1917, 774, 1505, 1690, 833, 1171, 1189, 922, 1011, 1661, 1661, 1716, 905, 984, 1120, 1690, 609, 902, 0, 1277], [745, 759, 426, 909, 1111, 639, 1335, 1229, 831, 588, 1040, 418, 1404, 879, 489, 1354, 1440, 1388, 490, 503, 499, 708, 1340, 1331, 0]]\n"
     ]
    }
   ],
   "source": [
    "data = create_data_model()\n",
    "addresses = data['addresses']\n",
    "API_key = data['API_key']\n",
    "data['distance_matrix'] = create_distance_matrix(data)\n",
    "print(data['distance_matrix'])"
   ]
  },
  {
   "cell_type": "markdown",
   "metadata": {},
   "source": [
    "### Create the routing model"
   ]
  },
  {
   "cell_type": "code",
   "execution_count": 12,
   "metadata": {},
   "outputs": [],
   "source": [
    "manager = pywrapcp.RoutingIndexManager(len(data['distance_matrix']),\n",
    "                                       data['num_vehicles'], data['depot'])\n",
    "routing = pywrapcp.RoutingModel(manager)"
   ]
  },
  {
   "cell_type": "markdown",
   "metadata": {},
   "source": [
    "### Create the distance callback"
   ]
  },
  {
   "cell_type": "code",
   "execution_count": 13,
   "metadata": {},
   "outputs": [],
   "source": [
    "def distance_callback(from_index, to_index):\n",
    "    \"\"\"Returns the distance between the two nodes.\"\"\"\n",
    "    # Convert from routing variable Index to distance matrix NodeIndex.\n",
    "    from_node = manager.IndexToNode(from_index)\n",
    "    to_node = manager.IndexToNode(to_index)\n",
    "    return data['distance_matrix'][from_node][to_node]\n",
    "\n",
    "transit_callback_index = routing.RegisterTransitCallback(distance_callback)"
   ]
  },
  {
   "cell_type": "markdown",
   "metadata": {},
   "source": [
    "### Set the cost of travel"
   ]
  },
  {
   "cell_type": "code",
   "execution_count": 14,
   "metadata": {},
   "outputs": [],
   "source": [
    "routing.SetArcCostEvaluatorOfAllVehicles(transit_callback_index)\n",
    "# Set to simply the distance"
   ]
  },
  {
   "cell_type": "markdown",
   "metadata": {},
   "source": [
    "### Set search parameters\n",
    "* Using cheapest arc - [but there are other options](https://developers.google.com/optimization/routing/routing_options#first_sol_options)"
   ]
  },
  {
   "cell_type": "code",
   "execution_count": 15,
   "metadata": {},
   "outputs": [],
   "source": [
    "search_parameters = pywrapcp.DefaultRoutingSearchParameters()\n",
    "search_parameters.first_solution_strategy = (\n",
    "    routing_enums_pb2.FirstSolutionStrategy.PATH_CHEAPEST_ARC)"
   ]
  },
  {
   "cell_type": "markdown",
   "metadata": {},
   "source": [
    "### Solve and print the solution"
   ]
  },
  {
   "cell_type": "code",
   "execution_count": 16,
   "metadata": {},
   "outputs": [
    {
     "name": "stdout",
     "output_type": "stream",
     "text": [
      "Objective: 12276m\n",
      "Route for vehicle 0:\n",
      " 0 -> 8 -> 2 -> 19 -> 1 -> 11 -> 18 -> 9 -> 13 -> 10 -> 23 -> 6 -> 21 -> 3 -> 4 -> 22 -> 12 -> 17 -> 16 -> 7 -> 15 -> 20 -> 24 -> 14 -> 5 -> 0\n",
      "\n"
     ]
    }
   ],
   "source": [
    "def print_solution(manager, routing, solution):\n",
    "    \"\"\"Prints solution on console.\"\"\"\n",
    "    print('Objective: {}m'.format(solution.ObjectiveValue()))\n",
    "    index = routing.Start(0)\n",
    "    plan_output = 'Route for vehicle 0:\\n'\n",
    "    route_distance = 0\n",
    "    while not routing.IsEnd(index):\n",
    "        plan_output += ' {} ->'.format(manager.IndexToNode(index))\n",
    "        previous_index = index\n",
    "        index = solution.Value(routing.NextVar(index))\n",
    "        route_distance += routing.GetArcCostForVehicle(previous_index, index, 0)\n",
    "    plan_output += ' {}\\n'.format(manager.IndexToNode(index))\n",
    "    print(plan_output)\n",
    "    plan_output += 'Route distance: {}miles\\n'.format(route_distance)\n",
    "\n",
    "solution = routing.SolveWithParameters(search_parameters)\n",
    "if solution:\n",
    "    print_solution(manager, routing, solution)"
   ]
  },
  {
   "cell_type": "markdown",
   "metadata": {},
   "source": [
    "### Save routes to an array for further processing"
   ]
  },
  {
   "cell_type": "code",
   "execution_count": 17,
   "metadata": {},
   "outputs": [],
   "source": [
    "def get_routes(solution, routing, manager):\n",
    "  \"\"\"Get vehicle routes from a solution and store them in an array.\"\"\"\n",
    "  # Get vehicle routes and store them in a two dimensional array whose\n",
    "  # i,j entry is the jth location visited by vehicle i along its route.\n",
    "  routes = []\n",
    "  for route_nbr in range(routing.vehicles()):\n",
    "    index = routing.Start(route_nbr)\n",
    "    route = [manager.IndexToNode(index)]\n",
    "    while not routing.IsEnd(index):\n",
    "      index = solution.Value(routing.NextVar(index))\n",
    "      route.append(manager.IndexToNode(index))\n",
    "    routes.append(route)\n",
    "  return routes"
   ]
  },
  {
   "cell_type": "markdown",
   "metadata": {},
   "source": [
    "### Print order of route"
   ]
  },
  {
   "cell_type": "code",
   "execution_count": 18,
   "metadata": {},
   "outputs": [
    {
     "name": "stdout",
     "output_type": "stream",
     "text": [
      "0: 6+Willowbrook+Keyworth+NG12+UK\n",
      "1: 204+Mount+Pleasant+Keyworth+NG12+UK\n",
      "2: 1+Wolds+Rise+Keyworth+NG12+UK\n",
      "3: 6+Lyncombe+Gardens+Keyworth+NG12+UK\n",
      "4: 1+Covert+Close+Keyworth+NG12+UK\n",
      "5: 27+Walton+Drive+Keyworth+NG12+UK\n",
      "6: 54+Ashley+Road+Keyworth+NG12+UK\n",
      "7: 24+Ashley+Road+Keyworth+NG12+UK\n",
      "8: 45+Normanton+Lane+Keyworth+NG12+UK\n",
      "9: 26+Rose+Grove+Keyworth+NG12+UK\n",
      "10: 9+Beaumont+Close+Keyworth+NG12+UK\n",
      "11: 2+Rancliffe+Avenue+Keyworth+NG12+UK\n",
      "12: 7A+Dale+Road+Keyworth+NG12+UK\n",
      "13: 11+Bunny+Lane+Keyworth+NG12+UK\n",
      "14: 13+West+Close+Keyworth+NG12+UK\n",
      "15: 84A+Manor+Road+Keyworth+NG12+UK\n",
      "16: 29+Hayes+Road+Keyworth+NG12+UK\n",
      "17: 52+Spinney+Road+Keyworth+NG12+UK\n",
      "18: 51+Park+Avenue+West+Keyworth+NG12+UK\n",
      "19: 2+Roseland+Close+Keyworth+NG12+UK\n",
      "20: 5+Wrights+Orchard+Keyworth+NG12+UK\n",
      "21: 68+Selby+Lane+Keyworth+NG12+UK\n",
      "22: Keyworth+Tavern+Fairway+Keyworth+NG12+UK\n",
      "23: 46+Beech+Avenue+Keyworth+NG12+UK\n",
      "24: 16+Lilac+Close+Keyworth+NG12+UK\n",
      "25: 6+Willowbrook+Keyworth+NG12+UK\n"
     ]
    }
   ],
   "source": [
    "routes = get_routes(solution, routing, manager)\n",
    "\n",
    "for i in range(len(routes[0])):\n",
    "    print(str(i) + \": \" + data['addresses'][(routes[0][i])])"
   ]
  },
  {
   "cell_type": "code",
   "execution_count": 36,
   "metadata": {},
   "outputs": [
    {
     "name": "stdout",
     "output_type": "stream",
     "text": [
      "https://google.com/maps/dir/6+Willowbrook+Keyworth+NG12+UK/204+Mount+Pleasant+Keyworth+NG12+UK/1+Wolds+Rise+Keyworth+NG12+UK/6+Lyncombe+Gardens+Keyworth+NG12+UK/1+Covert+Close+Keyworth+NG12+UK/27+Walton+Drive+Keyworth+NG12+UK/54+Ashley+Road+Keyworth+NG12+UK/24+Ashley+Road+Keyworth+NG12+UK/45+Normanton+Lane+Keyworth+NG12+UK/26+Rose+Grove+Keyworth+NG12+UK/9+Beaumont+Close+Keyworth+NG12+UK/2+Rancliffe+Avenue+Keyworth+NG12+UK/7A+Dale+Road+Keyworth+NG12+UK/11+Bunny+Lane+Keyworth+NG12+UK/13+West+Close+Keyworth+NG12+UK/84A+Manor+Road+Keyworth+NG12+UK/29+Hayes+Road+Keyworth+NG12+UK/52+Spinney+Road+Keyworth+NG12+UK/51+Park+Avenue+West+Keyworth+NG12+UK/2+Roseland+Close+Keyworth+NG12+UK/5+Wrights+Orchard+Keyworth+NG12+UK/68+Selby+Lane+Keyworth+NG12+UK/Keyworth+Tavern+Fairway+Keyworth+NG12+UK/46+Beech+Avenue+Keyworth+NG12+UK/16+Lilac+Close+Keyworth+NG12+UK/\n"
     ]
    }
   ],
   "source": [
    "route_str = ''\n",
    "\n",
    "for i in range(len(routes[0])-1):\n",
    "    extract = data['addresses'][(routes[0][i])]\n",
    "    route_str += extract + '/'\n",
    "\n",
    "request = \"https://google.com/maps/dir/\" + route_str\n",
    "\n",
    "print(request)"
   ]
  },
  {
   "cell_type": "code",
   "execution_count": 40,
   "metadata": {},
   "outputs": [
    {
     "data": {
      "text/html": [
       "<iframe src=\"https://www.google.com/maps/embed?pb=!1m166!1m12!1m3!1d19264.857024478308!2d-1.1024184141140336!3d52.87448536248946!2m3!1f0!2f0!3f0!3m2!1i1024!2i768!4f13.1!4m151!3e6!4m5!1s0x4879c4b50335b869%3A0x65f36ccbedac74a!2s6%20Willow%20Brook%2C%20Keyworth%2C%20Nottingham%20NG12%205BB!3m2!1d52.8713279!2d-1.0733625!4m5!1s0x4879c4b38e73061b%3A0x21a91c7bd5c0e3fa!2s204%20Mount%20Pleasant%2C%20Keyworth%2C%20Nottingham!3m2!1d52.8736295!2d-1.077149!4m5!1s0x4879c4b1d0338939%3A0xe0877f487ee5f7e!2s1%20Wolds%20Rise%2C%20Keyworth%2C%20Nottingham%20NG12%205FU!3m2!1d52.876779!2d-1.0825854!4m5!1s0x4879c4afd24359b9%3A0x565a97e7834a7272!2s6%20Lyncombe%20Gardens%2C%20Keyworth%2C%20Nottingham%20NG12%205FZ!3m2!1d52.877460299999996!2d-1.0839896!4m5!1s0x4879c4b04c308abb%3A0x38f2e92c092917f9!2s1%20Covert%20Cl%2C%20Keyworth%2C%20Nottingham%20NG12%205GB!3m2!1d52.877555699999995!2d-1.0812089999999999!4m5!1s0x4879c4ae67bbef47%3A0x96c2334a640bff9d!2s27%20Walton%20Dr%2C%20Keyworth%2C%20Nottingham%20NG12%205FN!3m2!1d52.875797399999996!2d-1.0857297!4m5!1s0x4879c4ac3e777ea9%3A0x9117c6273a6789c1!2s54%20Ashley%20Rd%2C%20Keyworth%2C%20Nottingham%20NG12%205FH!3m2!1d52.8735158!2d-1.0877425!4m5!1s0x4879c4ae94347701%3A0x7223d4da3b803ce8!2s24%20Ashley%20Rd%2C%20Keyworth%2C%20Nottingham%20NG12%205FJ!3m2!1d52.875755399999996!2d-1.087647!4m5!1s0x4879c4affd970aa7%3A0xfb72ffe21fc10bce!2s45%20Normanton%20Ln%2C%20Keyworth%2C%20Nottingham!3m2!1d52.8792641!2d-1.0837525!4m5!1s0x4879c4af85851867%3A0xc39325e9fae96e6a!2s26%20Rose%20Grove%2C%20Keyworth%2C%20Nottingham%20NG12%205HE!3m2!1d52.8799467!2d-1.0866433!4m5!1s0x4879c4a6175fcdab%3A0xdf79e112165e04ac!2s9%20Beaumont%20Cl%2C%20Keyworth%2C%20Nottingham%20NG12%205JJ!3m2!1d52.880556!2d-1.0909936999999998!4m5!1s0x4879c4a825626cb9%3A0x2d50010cc0e8f330!2s2%20Rancliffe%20Ave%2C%20Keyworth%2C%20Nottingham%20NG12%205HY!3m2!1d52.878516999999995!2d-1.0950396!4m5!1s0x4879c4a9447bffff%3A0xebb8606a47f95228!2s7a%20Dale%20Rd%2C%20Keyworth%2C%20Nottingham%20NG12%205HS!3m2!1d52.8753646!2d-1.0906898999999999!4m5!1s0x4879c4ab09db43f5%3A0xabf2b6282c0fef4b!2s11%20Bunny%20Ln%2C%20Keyworth%2C%20Nottingham%20NG12%205JU!3m2!1d52.8717799!2d-1.0914863!4m5!1s0x4879c4aa452f9d1b%3A0x8138c75e1e4c1fb4!2s13%20West%20Cl%2C%20Keyworth%2C%20Nottingham%20NG12%205GQ!3m2!1d52.8725082!2d-1.0935134!4m5!1s0x4879c4a9752be2b5%3A0x52bb27da6776995f!2s84A%20Manor%20Rd%2C%20Keyworth%2C%20Nottingham%20NG12%205LR!3m2!1d52.8747556!2d-1.0924211!4m5!1s0x4879c4a9e82f78d1%3A0xd1eb1cdb12bb1a71!2s29%20Hayes%20Rd%2C%20Keyworth%2C%20Nottingham%20NG12%205LJ!3m2!1d52.875692699999995!2d-1.0949616!4m5!1s0x4879c4a9d79cfed5%3A0x1316aa39219c259!2s52%20Spinney%20Rd%2C%20Keyworth%2C%20Nottingham%20NG12%205LN!3m2!1d52.876728799999995!2d-1.0962319999999999!4m5!1s0x4879c355ee8395bf%3A0x717e27094ea9e3ba!2s51%20Park%20Ave%20W%2C%20Keyworth%2C%20Nottingham%20NG12%205JY!3m2!1d52.8734653!2d-1.096809!4m5!1s0x4879c4aa94f3ce63%3A0x4003e594e4b3a30d!2s2%20Roseland%20Cl%2C%20Keyworth%2C%20Nottingham%20NG12%205LQ!3m2!1d52.870683!2d-1.0941912999999999!4m5!1s0x4879c4ab18bb5d1f%3A0x584728a389e85b77!2s5%20Wrights%20Orchard%2C%20Keyworth%2C%20Nottingham%20NG12%205RE!3m2!1d52.870519099999996!2d-1.0920246!4m5!1s0x4879c4b2bb6bc895%3A0xc9dc8b756ad2f5e1!2s68%20Selby%20Ln%2C%20Keyworth%2C%20Nottingham%20NG12%205AJ!3m2!1d52.8701138!2d-1.0823549!4m5!1s0x4879c4b30975059b%3A0xe310dd363b86de82!2sKeyworth%20Tavern%2C%20Fairway%2C%20Keyworth%2C%20Nottingham%20NG12%205DW!3m2!1d52.873934899999995!2d-1.0820203!4m5!1s0x4879c4b3111d252f%3A0x268ace4b3fb1978f!2s46%20Beech%20Ave%2C%20Keyworth%2C%20Nottingham%20NG12%205DJ!3m2!1d52.8709752!2d-1.0790218!4m5!1s0x4879c4b4bbfe7f45%3A0xece02e5c2e970aae!2s16%20Lilac%20Cl%2C%20Keyworth%2C%20Nottingham%20NG12%205DN!3m2!1d52.8702664!2d-1.0755838!5e0!3m2!1sen!2suk!4v1607345586851!5m2!1sen!2suk\" width=\"840\" height=\"450\" frameborder=\"0\" style=\"border:0;\" allowfullscreen=\"\" aria-hidden=\"false\" tabindex=\"0\"></iframe>"
      ],
      "text/plain": [
       "<IPython.core.display.HTML object>"
      ]
     },
     "execution_count": 40,
     "metadata": {},
     "output_type": "execute_result"
    }
   ],
   "source": [
    "iframe = '<iframe src=\"https://www.google.com/maps/embed?pb=!1m166!1m12!1m3!1d19264.857024478308!2d-1.1024184141140336!3d52.87448536248946!2m3!1f0!2f0!3f0!3m2!1i1024!2i768!4f13.1!4m151!3e6!4m5!1s0x4879c4b50335b869%3A0x65f36ccbedac74a!2s6%20Willow%20Brook%2C%20Keyworth%2C%20Nottingham%20NG12%205BB!3m2!1d52.8713279!2d-1.0733625!4m5!1s0x4879c4b38e73061b%3A0x21a91c7bd5c0e3fa!2s204%20Mount%20Pleasant%2C%20Keyworth%2C%20Nottingham!3m2!1d52.8736295!2d-1.077149!4m5!1s0x4879c4b1d0338939%3A0xe0877f487ee5f7e!2s1%20Wolds%20Rise%2C%20Keyworth%2C%20Nottingham%20NG12%205FU!3m2!1d52.876779!2d-1.0825854!4m5!1s0x4879c4afd24359b9%3A0x565a97e7834a7272!2s6%20Lyncombe%20Gardens%2C%20Keyworth%2C%20Nottingham%20NG12%205FZ!3m2!1d52.877460299999996!2d-1.0839896!4m5!1s0x4879c4b04c308abb%3A0x38f2e92c092917f9!2s1%20Covert%20Cl%2C%20Keyworth%2C%20Nottingham%20NG12%205GB!3m2!1d52.877555699999995!2d-1.0812089999999999!4m5!1s0x4879c4ae67bbef47%3A0x96c2334a640bff9d!2s27%20Walton%20Dr%2C%20Keyworth%2C%20Nottingham%20NG12%205FN!3m2!1d52.875797399999996!2d-1.0857297!4m5!1s0x4879c4ac3e777ea9%3A0x9117c6273a6789c1!2s54%20Ashley%20Rd%2C%20Keyworth%2C%20Nottingham%20NG12%205FH!3m2!1d52.8735158!2d-1.0877425!4m5!1s0x4879c4ae94347701%3A0x7223d4da3b803ce8!2s24%20Ashley%20Rd%2C%20Keyworth%2C%20Nottingham%20NG12%205FJ!3m2!1d52.875755399999996!2d-1.087647!4m5!1s0x4879c4affd970aa7%3A0xfb72ffe21fc10bce!2s45%20Normanton%20Ln%2C%20Keyworth%2C%20Nottingham!3m2!1d52.8792641!2d-1.0837525!4m5!1s0x4879c4af85851867%3A0xc39325e9fae96e6a!2s26%20Rose%20Grove%2C%20Keyworth%2C%20Nottingham%20NG12%205HE!3m2!1d52.8799467!2d-1.0866433!4m5!1s0x4879c4a6175fcdab%3A0xdf79e112165e04ac!2s9%20Beaumont%20Cl%2C%20Keyworth%2C%20Nottingham%20NG12%205JJ!3m2!1d52.880556!2d-1.0909936999999998!4m5!1s0x4879c4a825626cb9%3A0x2d50010cc0e8f330!2s2%20Rancliffe%20Ave%2C%20Keyworth%2C%20Nottingham%20NG12%205HY!3m2!1d52.878516999999995!2d-1.0950396!4m5!1s0x4879c4a9447bffff%3A0xebb8606a47f95228!2s7a%20Dale%20Rd%2C%20Keyworth%2C%20Nottingham%20NG12%205HS!3m2!1d52.8753646!2d-1.0906898999999999!4m5!1s0x4879c4ab09db43f5%3A0xabf2b6282c0fef4b!2s11%20Bunny%20Ln%2C%20Keyworth%2C%20Nottingham%20NG12%205JU!3m2!1d52.8717799!2d-1.0914863!4m5!1s0x4879c4aa452f9d1b%3A0x8138c75e1e4c1fb4!2s13%20West%20Cl%2C%20Keyworth%2C%20Nottingham%20NG12%205GQ!3m2!1d52.8725082!2d-1.0935134!4m5!1s0x4879c4a9752be2b5%3A0x52bb27da6776995f!2s84A%20Manor%20Rd%2C%20Keyworth%2C%20Nottingham%20NG12%205LR!3m2!1d52.8747556!2d-1.0924211!4m5!1s0x4879c4a9e82f78d1%3A0xd1eb1cdb12bb1a71!2s29%20Hayes%20Rd%2C%20Keyworth%2C%20Nottingham%20NG12%205LJ!3m2!1d52.875692699999995!2d-1.0949616!4m5!1s0x4879c4a9d79cfed5%3A0x1316aa39219c259!2s52%20Spinney%20Rd%2C%20Keyworth%2C%20Nottingham%20NG12%205LN!3m2!1d52.876728799999995!2d-1.0962319999999999!4m5!1s0x4879c355ee8395bf%3A0x717e27094ea9e3ba!2s51%20Park%20Ave%20W%2C%20Keyworth%2C%20Nottingham%20NG12%205JY!3m2!1d52.8734653!2d-1.096809!4m5!1s0x4879c4aa94f3ce63%3A0x4003e594e4b3a30d!2s2%20Roseland%20Cl%2C%20Keyworth%2C%20Nottingham%20NG12%205LQ!3m2!1d52.870683!2d-1.0941912999999999!4m5!1s0x4879c4ab18bb5d1f%3A0x584728a389e85b77!2s5%20Wrights%20Orchard%2C%20Keyworth%2C%20Nottingham%20NG12%205RE!3m2!1d52.870519099999996!2d-1.0920246!4m5!1s0x4879c4b2bb6bc895%3A0xc9dc8b756ad2f5e1!2s68%20Selby%20Ln%2C%20Keyworth%2C%20Nottingham%20NG12%205AJ!3m2!1d52.8701138!2d-1.0823549!4m5!1s0x4879c4b30975059b%3A0xe310dd363b86de82!2sKeyworth%20Tavern%2C%20Fairway%2C%20Keyworth%2C%20Nottingham%20NG12%205DW!3m2!1d52.873934899999995!2d-1.0820203!4m5!1s0x4879c4b3111d252f%3A0x268ace4b3fb1978f!2s46%20Beech%20Ave%2C%20Keyworth%2C%20Nottingham%20NG12%205DJ!3m2!1d52.8709752!2d-1.0790218!4m5!1s0x4879c4b4bbfe7f45%3A0xece02e5c2e970aae!2s16%20Lilac%20Cl%2C%20Keyworth%2C%20Nottingham%20NG12%205DN!3m2!1d52.8702664!2d-1.0755838!5e0!3m2!1sen!2suk!4v1607345586851!5m2!1sen!2suk\" width=\"840\" height=\"450\" frameborder=\"0\" style=\"border:0;\" allowfullscreen=\"\" aria-hidden=\"false\" tabindex=\"0\"></iframe>'\n",
    "IPython.display.HTML(iframe)"
   ]
  },
  {
   "cell_type": "code",
   "execution_count": null,
   "metadata": {},
   "outputs": [],
   "source": []
  }
 ],
 "metadata": {
  "kernelspec": {
   "display_name": "Python 3",
   "language": "python",
   "name": "python3"
  },
  "language_info": {
   "codemirror_mode": {
    "name": "ipython",
    "version": 3
   },
   "file_extension": ".py",
   "mimetype": "text/x-python",
   "name": "python",
   "nbconvert_exporter": "python",
   "pygments_lexer": "ipython3",
   "version": "3.7.6"
  }
 },
 "nbformat": 4,
 "nbformat_minor": 4
}
