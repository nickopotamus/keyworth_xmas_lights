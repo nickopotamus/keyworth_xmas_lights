{
 "cells": [
  {
   "cell_type": "markdown",
   "metadata": {},
   "source": [
    "# Solving the travelling salesman problem for the Keyworth Christmas Trail\n",
    "* Solving the [TSP](https://en.wikipedia.org/wiki/Travelling_salesman_problem) for quickest way to walk around the village [using Google OR-Tools](https://developers.google.com/optimization/routing/tsp)\n",
    "* See the [Keyworth Community Projects page](https://www.facebook.com/189497114572953/posts/1583160051873312/?extid=0&d=n) if you want to come visit\n",
    "* Nerdiness by [@Nickopotamus](https://nickopotamus.co.uk)"
   ]
  },
  {
   "cell_type": "code",
   "execution_count": 5,
   "metadata": {},
   "outputs": [],
   "source": [
    "from __future__ import division\n",
    "from __future__ import print_function\n",
    "from ortools.constraint_solver import pywrapcp\n",
    "from ortools.constraint_solver import routing_enums_pb2\n",
    "import requests\n",
    "import json\n",
    "import urllib.request"
   ]
  },
  {
   "cell_type": "markdown",
   "metadata": {},
   "source": [
    "### Generate distance matrix\n",
    "* Using [Google Distance Matrix API](https://developers.google.com/optimization/routing/vrp#distance_matrix_api) to build distance matrix"
   ]
  },
  {
   "cell_type": "markdown",
   "metadata": {},
   "source": [
    "#### Create data model that will store distance matrix\n",
    "* Had to combine a few nearby locations to make the API work"
   ]
  },
  {
   "cell_type": "code",
   "execution_count": 30,
   "metadata": {},
   "outputs": [],
   "source": [
    "def create_data_model():\n",
    "    \"\"\"Stores the data for the problem.\"\"\"\n",
    "    data = {}\n",
    "    data['API_key'] = 'YOUR_KEY_GOES_HERE'\n",
    "    data['addresses'] = ['18+Ashley+Road+Keyworth+NG12+UK',      #0\n",
    "                         '54+Ashley+Road+Keyworth+NG12+UK',      #1\n",
    "                         '46+Beech+Avenue+Keyworth+NG12+UK',     #2\n",
    "                         '33+Church+Drive+Keyworth+NG12+UK',     #3\n",
    "                         '1+Covert+Close+Keyworth+NG12+UK',      #4\n",
    "                         '16+Croft+Road+Keyworth+NG12+UK',       #5\n",
    "                         '7A+Dale+Road+Keyworth+NG12+UK',        #6\n",
    "                         '3+East+Close+Keyworth+NG12+UK',        #7\n",
    "                         '24+Fairway+Keyworth+NG12+UK',          #8\n",
    "                         '29+Hayes+Road+Keyworth+NG12+UK',       #9\n",
    "                         '16+Lilac+Close+Keyworth+NG12+UK',      #10\n",
    "                         '6+Lyncombe+Gardens+Keyworth+NG12+UK',  #11\n",
    "                         '9+Manor+Road+Keyworth+NG12+UK',        #12\n",
    "                         '82B+Manor+Road+Keyworth+NG12+UK',      #13 (combined some of Manor Road)\n",
    "                         'The+Rectory+Nottingham+Road+Keyworth+NG12+UK', #14\n",
    "                         '32+Park+Avenue+Keyworth+NG12+UK',      #15 (combined some of Park Avenue)\n",
    "                         '41+Park+Avenue+West+Keyworth+NG12+UK', #16\n",
    "                         '51+Park+Avenue+West+Keyworth+NG12+UK', #17\n",
    "                         '2+Rancliffe+Avenue+Keyworth+NG12+UK',  #18\n",
    "                         '2+Rose+Grove+Keyworth+NG12+UK',        #19\n",
    "                         '26+Rose+Grove+Keyworth+NG12+UK',       #20\n",
    "                         '2+Roseland+Close+Keyworth+NG12+UK',    #21\n",
    "                         '19+Selby+Lane+Keyworth+NG12+UK',       #22 (combined Selby Lane)\n",
    "                         '13+West+Close+Keyworth+NG12+UK',       #23 (combined West Close)\n",
    "                         '1+Wolds+Rise+Keyworth+NG12+UK'         #24\n",
    "                        ]\n",
    "    data['distance_matrix'] = []\n",
    "    data['num_vehicles'] = 1\n",
    "    data['depot'] = 10 # Start at Lilac Close as nearest to the Willowbrook, and furthest from all other points\n",
    "    return data"
   ]
  },
  {
   "cell_type": "markdown",
   "metadata": {},
   "source": [
    "#### Compute distance matrix"
   ]
  },
  {
   "cell_type": "code",
   "execution_count": 3,
   "metadata": {},
   "outputs": [],
   "source": [
    "def create_distance_matrix(data):\n",
    "  addresses = data[\"addresses\"]\n",
    "  API_key = data[\"API_key\"]\n",
    "  max_elements = 100                        # Distance Matrix API only accepts 100 elements per request, so get rows in multiple requests\n",
    "  num_addresses = len(addresses) \n",
    "  max_rows = max_elements // num_addresses  # Maximum number of rows that can be computed per request\n",
    "  q, r = divmod(num_addresses, max_rows)    # num_addresses = q * max_rows + r\n",
    "  dest_addresses = addresses\n",
    "  distance_matrix = []\n",
    "  \n",
    "  for i in range(q):                        # Send q requests, returning max_rows rows per request.\n",
    "    origin_addresses = addresses[i * max_rows: (i + 1) * max_rows]\n",
    "    response = send_request(origin_addresses, dest_addresses, API_key)\n",
    "    distance_matrix += build_distance_matrix(response)\n",
    "\n",
    "  if r > 0:                                  # Get the remaining remaining r rows, if necessary.\n",
    "    origin_addresses = addresses[q * max_rows: q * max_rows + r]\n",
    "    response = send_request(origin_addresses, dest_addresses, API_key)\n",
    "    distance_matrix += build_distance_matrix(response)\n",
    "\n",
    "  return distance_matrix"
   ]
  },
  {
   "cell_type": "markdown",
   "metadata": {},
   "source": [
    "#### Build and send API requests"
   ]
  },
  {
   "cell_type": "code",
   "execution_count": 4,
   "metadata": {},
   "outputs": [],
   "source": [
    "def send_request(origin_addresses, dest_addresses, API_key):\n",
    "  \"\"\" Build and send request for the given origin and destination addresses.\"\"\"\n",
    "  def build_address_str(addresses):     # Build a pipe-separated string of addresses\n",
    "    address_str = ''\n",
    "    for i in range(len(addresses) - 1):\n",
    "      address_str += addresses[i] + '|'\n",
    "    address_str += addresses[-1]\n",
    "    return address_str\n",
    "\n",
    "  request = 'https://maps.googleapis.com/maps/api/distancematrix/json?units=imperial'\n",
    "  origin_address_str = build_address_str(origin_addresses)\n",
    "  dest_address_str = build_address_str(dest_addresses)\n",
    "  request = request + '&origins=' + origin_address_str + '&destinations=' + \\\n",
    "                       dest_address_str + '&key=' + API_key\n",
    "  jsonResult = urllib.request.urlopen(request).read()\n",
    "  response = json.loads(jsonResult)\n",
    "  return response"
   ]
  },
  {
   "cell_type": "markdown",
   "metadata": {},
   "source": [
    "#### Build the distance matrix"
   ]
  },
  {
   "cell_type": "code",
   "execution_count": 5,
   "metadata": {},
   "outputs": [],
   "source": [
    "def build_distance_matrix(response):\n",
    "  distance_matrix = []\n",
    "  for row in response['rows']:\n",
    "    row_list = [row['elements'][j]['distance']['value'] for j in range(len(row['elements']))]\n",
    "    distance_matrix.append(row_list)\n",
    "  return distance_matrix"
   ]
  },
  {
   "cell_type": "markdown",
   "metadata": {},
   "source": [
    "### Add distance matrix to model"
   ]
  },
  {
   "cell_type": "code",
   "execution_count": 6,
   "metadata": {},
   "outputs": [
    {
     "name": "stdout",
     "output_type": "stream",
     "text": [
      "[[0, 264, 994, 382, 1019, 1000, 482, 846, 701, 883, 1250, 564, 881, 808, 379, 1101, 1209, 1214, 814, 445, 615, 1003, 992, 885, 486], [264, 0, 874, 261, 1069, 1075, 361, 725, 580, 1057, 1129, 813, 760, 952, 258, 981, 1088, 1093, 988, 709, 879, 882, 871, 764, 736], [994, 874, 0, 612, 1143, 1704, 1092, 1354, 587, 1788, 398, 887, 1389, 1581, 989, 1610, 1718, 1722, 1719, 1254, 1424, 1511, 692, 1393, 810], [382, 261, 612, 0, 808, 1193, 479, 843, 319, 1176, 868, 552, 878, 1070, 377, 1099, 1207, 1211, 1106, 1070, 1240, 1000, 665, 882, 475], [819, 1069, 1143, 808, 0, 1565, 1287, 1651, 849, 1449, 1398, 388, 1686, 1374, 1185, 1907, 2015, 2019, 1379, 621, 790, 1808, 1195, 1690, 415], [1195, 1075, 1632, 1193, 1765, 0, 799, 407, 1512, 415, 2195, 1310, 314, 192, 816, 221, 204, 191, 759, 1191, 1361, 618, 1012, 404, 1232], [482, 361, 1092, 479, 1307, 799, 0, 892, 798, 682, 1347, 853, 799, 608, 258, 981, 1088, 1093, 613, 734, 904, 882, 871, 764, 775], [846, 725, 1282, 843, 1889, 407, 725, 0, 1162, 508, 1845, 1434, 93, 284, 467, 459, 567, 572, 852, 1316, 1486, 360, 663, 96, 1357], [701, 580, 587, 319, 849, 1512, 798, 1162, 0, 1494, 549, 593, 1197, 1389, 695, 1418, 1526, 1530, 1425, 960, 1130, 1319, 632, 1201, 516], [883, 1057, 1734, 1176, 1648, 319, 682, 508, 1440, 0, 1990, 1193, 415, 223, 955, 484, 468, 455, 642, 1074, 1244, 811, 1113, 505, 1116], [1250, 1129, 398, 868, 1569, 2195, 1347, 1845, 549, 2044, 0, 1143, 1881, 2072, 1245, 2101, 2209, 2214, 1974, 1786, 1956, 2002, 1183, 1884, 1065], [564, 813, 887, 552, 388, 1310, 1032, 1396, 593, 1193, 1143, 0, 1431, 1118, 929, 1651, 1759, 1764, 1123, 765, 935, 1552, 940, 1434, 159], [881, 760, 1318, 878, 1924, 314, 760, 93, 1197, 415, 1881, 1470, 0, 192, 502, 494, 602, 607, 759, 1351, 1521, 395, 698, 89, 1392], [1073, 952, 1509, 1070, 1573, 192, 608, 284, 1389, 223, 2072, 1118, 192, 0, 694, 686, 396, 383, 567, 1000, 1170, 587, 890, 281, 1041], [379, 258, 989, 377, 1423, 816, 258, 467, 695, 917, 1245, 968, 502, 694, 0, 722, 830, 835, 885, 849, 1019, 624, 612, 506, 890], [1101, 981, 1538, 1099, 2145, 221, 981, 459, 1418, 909, 2101, 1690, 494, 686, 722, 0, 108, 113, 1253, 1571, 1741, 398, 918, 498, 1613], [1209, 1088, 1646, 1207, 2253, 204, 1088, 567, 1526, 619, 2209, 1798, 602, 396, 830, 108, 0, 13, 963, 1679, 1849, 505, 1026, 606, 1720], [1214, 1093, 1651, 1211, 2257, 191, 1093, 572, 1530, 606, 2214, 1803, 607, 383, 835, 113, 13, 0, 950, 1684, 1854, 510, 1031, 610, 1725], [814, 988, 1665, 1106, 1578, 759, 613, 852, 1371, 642, 1920, 1123, 759, 567, 885, 1253, 963, 950, 0, 1005, 1175, 1155, 1498, 849, 1046], [445, 952, 1254, 1070, 638, 1191, 734, 1316, 960, 1074, 1803, 783, 1351, 1000, 849, 1571, 1679, 1684, 1005, 0, 170, 1473, 1462, 1355, 810], [615, 1122, 1424, 1240, 808, 1361, 904, 1486, 1130, 1244, 1973, 953, 1521, 1170, 1019, 1741, 1849, 1854, 1175, 170, 0, 1643, 1632, 1525, 980], [1003, 882, 1439, 1000, 2046, 710, 882, 360, 1319, 811, 2002, 1591, 395, 587, 624, 398, 505, 510, 1155, 1473, 1643, 0, 819, 399, 1514], [1047, 926, 620, 665, 1195, 1012, 871, 663, 632, 1113, 1183, 940, 698, 890, 612, 918, 1026, 1031, 1498, 1462, 1632, 819, 0, 701, 862], [885, 764, 1321, 882, 1928, 404, 764, 96, 1201, 505, 1884, 1473, 89, 281, 506, 498, 606, 610, 849, 1355, 1525, 399, 701, 0, 1396], [486, 736, 810, 475, 415, 1232, 954, 1318, 516, 1116, 1065, 159, 1353, 1041, 852, 1574, 1682, 1686, 1046, 635, 805, 1475, 862, 1357, 0]]\n"
     ]
    }
   ],
   "source": [
    "data = create_data_model()\n",
    "addresses = data['addresses']\n",
    "API_key = data['API_key']\n",
    "data['distance_matrix'] = create_distance_matrix(data)\n",
    "print(data['distance_matrix'])"
   ]
  },
  {
   "cell_type": "markdown",
   "metadata": {},
   "source": [
    "### Create the routing model"
   ]
  },
  {
   "cell_type": "code",
   "execution_count": 7,
   "metadata": {},
   "outputs": [],
   "source": [
    "manager = pywrapcp.RoutingIndexManager(len(data['distance_matrix']),\n",
    "                                       data['num_vehicles'], data['depot'])\n",
    "routing = pywrapcp.RoutingModel(manager)"
   ]
  },
  {
   "cell_type": "markdown",
   "metadata": {},
   "source": [
    "### Create the distance callback"
   ]
  },
  {
   "cell_type": "code",
   "execution_count": 8,
   "metadata": {},
   "outputs": [],
   "source": [
    "def distance_callback(from_index, to_index):\n",
    "    \"\"\"Returns the distance between the two nodes.\"\"\"\n",
    "    # Convert from routing variable Index to distance matrix NodeIndex.\n",
    "    from_node = manager.IndexToNode(from_index)\n",
    "    to_node = manager.IndexToNode(to_index)\n",
    "    return data['distance_matrix'][from_node][to_node]\n",
    "\n",
    "transit_callback_index = routing.RegisterTransitCallback(distance_callback)"
   ]
  },
  {
   "cell_type": "markdown",
   "metadata": {},
   "source": [
    "### Set the cost of travel"
   ]
  },
  {
   "cell_type": "code",
   "execution_count": 9,
   "metadata": {},
   "outputs": [],
   "source": [
    "routing.SetArcCostEvaluatorOfAllVehicles(transit_callback_index)\n",
    "# Set to simply the distance"
   ]
  },
  {
   "cell_type": "markdown",
   "metadata": {},
   "source": [
    "### Set search parameters\n",
    "* Using cheapest arc - [but there are other options](https://developers.google.com/optimization/routing/routing_options#first_sol_options)"
   ]
  },
  {
   "cell_type": "code",
   "execution_count": 10,
   "metadata": {},
   "outputs": [],
   "source": [
    "search_parameters = pywrapcp.DefaultRoutingSearchParameters()\n",
    "search_parameters.first_solution_strategy = (\n",
    "    routing_enums_pb2.FirstSolutionStrategy.PATH_CHEAPEST_ARC)"
   ]
  },
  {
   "cell_type": "markdown",
   "metadata": {},
   "source": [
    "### Solution printer"
   ]
  },
  {
   "cell_type": "code",
   "execution_count": 28,
   "metadata": {},
   "outputs": [],
   "source": [
    "def print_solution(manager, routing, solution):\n",
    "    \"\"\"Prints solution on console.\"\"\"\n",
    "    print('Objective: {}m'.format(solution.ObjectiveValue()))\n",
    "    index = routing.Start(0)\n",
    "    plan_output = 'Route for vehicle 0:\\n'\n",
    "    route_distance = 0\n",
    "    while not routing.IsEnd(index):\n",
    "        plan_output += ' {} ->'.format(manager.IndexToNode(index))\n",
    "        previous_index = index\n",
    "        index = solution.Value(routing.NextVar(index))\n",
    "        route_distance += routing.GetArcCostForVehicle(previous_index, index, 0)\n",
    "    plan_output += ' {}\\n'.format(manager.IndexToNode(index))\n",
    "    print(plan_output)\n",
    "    plan_output += 'Route distance: {}miles\\n'.format(route_distance)"
   ]
  },
  {
   "cell_type": "markdown",
   "metadata": {},
   "source": [
    "### Solve and print the solution"
   ]
  },
  {
   "cell_type": "code",
   "execution_count": 29,
   "metadata": {},
   "outputs": [
    {
     "name": "stdout",
     "output_type": "stream",
     "text": [
      "Objective: 8716m\n",
      "Route for vehicle 0:\n",
      " 10 -> 8 -> 3 -> 24 -> 11 -> 4 -> 20 -> 19 -> 0 -> 1 -> 14 -> 6 -> 18 -> 9 -> 13 -> 5 -> 17 -> 16 -> 15 -> 21 -> 7 -> 23 -> 12 -> 22 -> 2 -> 10\n",
      "\n"
     ]
    }
   ],
   "source": [
    "solution = routing.SolveWithParameters(search_parameters)\n",
    "if solution:\n",
    "    print_solution(manager, routing, solution)"
   ]
  },
  {
   "cell_type": "markdown",
   "metadata": {},
   "source": [
    "### Save routes to an array for further processing"
   ]
  },
  {
   "cell_type": "code",
   "execution_count": 15,
   "metadata": {},
   "outputs": [],
   "source": [
    "def get_routes(solution, routing, manager):\n",
    "  \"\"\"Get vehicle routes from a solution and store them in an array.\"\"\"\n",
    "  # Get vehicle routes and store them in a two dimensional array whose\n",
    "  # i,j entry is the jth location visited by vehicle i along its route.\n",
    "  routes = []\n",
    "  for route_nbr in range(routing.vehicles()):\n",
    "    index = routing.Start(route_nbr)\n",
    "    route = [manager.IndexToNode(index)]\n",
    "    while not routing.IsEnd(index):\n",
    "      index = solution.Value(routing.NextVar(index))\n",
    "      route.append(manager.IndexToNode(index))\n",
    "    routes.append(route)\n",
    "  return routes"
   ]
  },
  {
   "cell_type": "markdown",
   "metadata": {},
   "source": [
    "### Print order of route"
   ]
  },
  {
   "cell_type": "code",
   "execution_count": 27,
   "metadata": {},
   "outputs": [
    {
     "name": "stdout",
     "output_type": "stream",
     "text": [
      "0: 16+Lilac+Close+Keyworth+NG12+UK\n",
      "1: 24+Fairway+Keyworth+NG12+UK\n",
      "2: 33+Church+Drive+Keyworth+NG12+UK\n",
      "3: 1+Wolds+Rise+Keyworth+NG12+UK\n",
      "4: 6+Lyncombe+Gardens+Keyworth+NG12+UK\n",
      "5: 1+Covert+Close+Keyworth+NG12+UK\n",
      "6: 26+Rose+Grove+Keyworth+NG12+UK\n",
      "7: 2+Rose+Grove+Keyworth+NG12+UK\n",
      "8: 18+Ashley+Road+Keyworth+NG12+UK\n",
      "9: 54+Ashley+Road+Keyworth+NG12+UK\n",
      "10: The+Rectory+Nottingham+Road+Keyworth+NG12+UK\n",
      "11: 7A+Dale+Road+Keyworth+NG12+UK\n",
      "12: 2+Rancliffe+Avenue+Keyworth+NG12+UK\n",
      "13: 29+Hayes+Road+Keyworth+NG12+UK\n",
      "14: 82B+Manor+Road+Keyworth+NG12+UK\n",
      "15: 16+Croft+Road+Keyworth+NG12+UK\n",
      "16: 51+Park+Avenue+West+Keyworth+NG12+UK\n",
      "17: 41+Park+Avenue+West+Keyworth+NG12+UK\n",
      "18: 32+Park+Avenue+Keyworth+NG12+UK\n",
      "19: 2+Roseland+Close+Keyworth+NG12+UK\n",
      "20: 9+Manor+Road+Keyworth+NG12+UK\n",
      "21: 13+West+Close+Keyworth+NG12+UK\n",
      "22: 3+East+Close+Keyworth+NG12+UK\n",
      "23: 19+Selby+Lane+Keyworth+NG12+UK\n",
      "24: 46+Beech+Avenue+Keyworth+NG12+UK\n",
      "25: 16+Lilac+Close+Keyworth+NG12+UK\n"
     ]
    }
   ],
   "source": [
    "routes = get_routes(solution, routing, manager)\n",
    "\n",
    "for i in range(len(routes[0])):\n",
    "    print(str(i) + \": \" + data['addresses'][(routes[0][i])])"
   ]
  },
  {
   "cell_type": "code",
   "execution_count": null,
   "metadata": {},
   "outputs": [],
   "source": []
  }
 ],
 "metadata": {
  "kernelspec": {
   "display_name": "Python 3",
   "language": "python",
   "name": "python3"
  },
  "language_info": {
   "codemirror_mode": {
    "name": "ipython",
    "version": 3
   },
   "file_extension": ".py",
   "mimetype": "text/x-python",
   "name": "python",
   "nbconvert_exporter": "python",
   "pygments_lexer": "ipython3",
   "version": "3.7.6"
  }
 },
 "nbformat": 4,
 "nbformat_minor": 4
}
